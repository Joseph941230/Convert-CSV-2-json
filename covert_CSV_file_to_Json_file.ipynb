{
  "nbformat": 4,
  "nbformat_minor": 0,
  "metadata": {
    "colab": {
      "provenance": [],
      "authorship_tag": "ABX9TyPEZunu0gJUkbHShDVroBv0",
      "include_colab_link": true
    },
    "kernelspec": {
      "name": "python3",
      "display_name": "Python 3"
    },
    "language_info": {
      "name": "python"
    }
  },
  "cells": [
    {
      "cell_type": "markdown",
      "metadata": {
        "id": "view-in-github",
        "colab_type": "text"
      },
      "source": [
        "<a href=\"https://colab.research.google.com/github/Joseph941230/Convert-CSV-2-json/blob/main/covert_CSV_file_to_Json_file.ipynb\" target=\"_parent\"><img src=\"https://colab.research.google.com/assets/colab-badge.svg\" alt=\"Open In Colab\"/></a>"
      ]
    },
    {
      "cell_type": "code",
      "execution_count": 2,
      "metadata": {
        "id": "nrA4THI4So9U"
      },
      "outputs": [],
      "source": [
        "import csv\n",
        "import json\n",
        "\n",
        "def csv_to_json(csv_file_path, json_file_path):\n",
        "\n",
        "    data_dict = {}\n",
        "\n",
        "    with open(csv_file_path, encoding = 'utf-8') as csv_file_handler:\n",
        "        csv_reader = csv.DictReader(csv_file_handler)\n",
        "\n",
        "        for rows in csv_reader:\n",
        "\n",
        "            key = rows['City']\n",
        "            data_dict[key] = rows\n",
        "    with open(json_file_path, 'w', encoding = 'utf-8') as json_file_handler:\n",
        "        json_file_handler.write(json.dumps(data_dict, indent = 4))\n",
        "csv_file_path = '/content/SSN.csv'\n",
        "json_file_path = '/content/SSN!.json'\n",
        "\n",
        "csv_to_json(csv_file_path, json_file_path)\n"
      ]
    }
  ]
}